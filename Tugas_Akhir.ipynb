{
 "cells": [
  {
   "cell_type": "markdown",
   "id": "eb3b39f8-e2f4-47ca-a53d-48e5e16a6013",
   "metadata": {},
   "source": [
    "# TUGAS AKHIR"
   ]
  },
  {
   "cell_type": "markdown",
   "id": "60ae211d-f896-469c-bae4-deeba0a12848",
   "metadata": {},
   "source": [
    "## Data Selection"
   ]
  },
  {
   "cell_type": "code",
   "execution_count": null,
   "id": "1116b033-89ce-4449-bd19-53fd7ae2adda",
   "metadata": {},
   "outputs": [],
   "source": [
    "import twint\n",
    "import nest_asyncio\n",
    "import pandas as pd"
   ]
  },
  {
   "cell_type": "code",
   "execution_count": null,
   "id": "c27cd3a1-29bd-43da-b33b-43bca66bbd37",
   "metadata": {},
   "outputs": [],
   "source": [
    "nest_asyncio.apply()\n",
    "\n",
    "c = twint.Config()\n",
    "c.Search = \"perubahan rute krl\"\n",
    "c.Since = '2022-05-26'\n",
    "c.Until= '2023-02-28'\n",
    "c.Output_csv = True\n",
    "c.Pandas = True\n",
    "\n",
    "twint.run.Search(c)\n",
    "Tweets_df = twint.storage.panda.Tweets_df"
   ]
  },
  {
   "cell_type": "code",
   "execution_count": null,
   "id": "19fc55cd-b420-4f2b-8d4a-28a109de07c5",
   "metadata": {},
   "outputs": [],
   "source": [
    "df = twint.storage.panda.Tweets_df\n",
    "df"
   ]
  },
  {
   "cell_type": "code",
   "execution_count": null,
   "id": "6440d1ce-7c5c-41ba-8980-60b8b9bd6512",
   "metadata": {},
   "outputs": [],
   "source": [
    "df.info()"
   ]
  },
  {
   "cell_type": "code",
   "execution_count": null,
   "id": "38140ce2-7014-4a4a-88ea-78daec7d62f7",
   "metadata": {},
   "outputs": [],
   "source": [
    "df = df[[\"username\", \"name\", \"date\", \"tweet\"]]\n",
    "df"
   ]
  },
  {
   "cell_type": "code",
   "execution_count": null,
   "id": "3f02da7d-b8cc-4c4d-8150-39f05b1ef488",
   "metadata": {},
   "outputs": [],
   "source": [
    "df.loc[df['username'] == 'CommuterLine']"
   ]
  },
  {
   "cell_type": "code",
   "execution_count": null,
   "id": "5225a1b2-4ce4-4bc4-b6f9-4e0ba93394bc",
   "metadata": {},
   "outputs": [],
   "source": [
    "data= df.drop(df.loc[df['username'] == 'CommuterLine'].index)"
   ]
  },
  {
   "cell_type": "code",
   "execution_count": null,
   "id": "8b4452f9-c3ff-412d-b9a3-de8b566e69f6",
   "metadata": {},
   "outputs": [],
   "source": [
    "data"
   ]
  },
  {
   "cell_type": "code",
   "execution_count": null,
   "id": "e1e5a45c-06df-4415-acf9-128cc9033bf6",
   "metadata": {},
   "outputs": [],
   "source": [
    "data.to_csv('data.csv', index = False)"
   ]
  },
  {
   "cell_type": "raw",
   "id": "e24ceadf-7d88-4fc0-a98c-f62a7f71efd5",
   "metadata": {},
   "source": [
    "data = pd.read_csv('data.csv')\n",
    "data"
   ]
  },
  {
   "cell_type": "code",
   "execution_count": null,
   "id": "038cb776-75f3-4e4c-a53a-af9c85399aef",
   "metadata": {},
   "outputs": [],
   "source": [
    "data[\"tweet\"] = data[\"tweet\"].astype(str)"
   ]
  },
  {
   "cell_type": "code",
   "execution_count": null,
   "id": "ae5b7502-e901-4cff-a090-659111140d4e",
   "metadata": {},
   "outputs": [],
   "source": [
    "print(data[\"tweet\"])"
   ]
  },
  {
   "cell_type": "markdown",
   "id": "96ec0726-d77a-4179-af75-d2e897bd842c",
   "metadata": {},
   "source": [
    "## Preprocessing"
   ]
  },
  {
   "cell_type": "code",
   "execution_count": null,
   "id": "24710957-4cc2-41d0-b3b5-2b53a3e8b05a",
   "metadata": {},
   "outputs": [],
   "source": [
    "import nltk\n",
    "import re\n",
    "import string\n",
    "from nltk.probability import FreqDist"
   ]
  },
  {
   "cell_type": "markdown",
   "id": "10a2c614-8a10-4552-b238-d7e02212b5b1",
   "metadata": {},
   "source": [
    "### 1. Cleansing"
   ]
  },
  {
   "cell_type": "code",
   "execution_count": null,
   "id": "5d0a41b7-dfde-46c9-8d53-8c231d640560",
   "metadata": {},
   "outputs": [],
   "source": [
    "#menghapus number\n",
    "def remove_number(text):\n",
    "    return  re.sub(r\"\\d+\", \" \", text)\n",
    "\n",
    "data['tweet'] = data['tweet'].apply(remove_number)"
   ]
  },
  {
   "cell_type": "code",
   "execution_count": null,
   "id": "5e365af3-a774-4225-b4f2-e15a48cfb821",
   "metadata": {},
   "outputs": [],
   "source": [
    "#menghapus punctuation\n",
    "def remove_punctuation(text):\n",
    "    return text.translate(str.maketrans(\"\",\"\",string.punctuation))\n",
    "\n",
    "data['tweet'] = data['tweet'].apply(remove_punctuation)"
   ]
  },
  {
   "cell_type": "code",
   "execution_count": null,
   "id": "2d74515f-15cb-4dc6-9fde-9133115ff4f1",
   "metadata": {},
   "outputs": [],
   "source": [
    "def remove_links(text):\n",
    "    # menghapus non ASCII (emoticon, chinese word, .etc)\n",
    "    text = text.encode('ascii', 'replace').decode('ascii')\n",
    "    # menghapus mention, link, hashtag\n",
    "    text = ' '.join(re.sub(\"([@#][A-Za-z0-9]+)|(\\w+:\\/\\/\\S+)\",\" \", text).split())\n",
    "    # menghapus URL\n",
    "    return text.replace(\"http://\", \" \").replace(\"https://\", \" \")\n",
    "                \n",
    "data['tweet'] = data['tweet'].apply(remove_links)"
   ]
  },
  {
   "cell_type": "code",
   "execution_count": null,
   "id": "7220a82e-4eaf-4f02-aed8-f2fd604ac939",
   "metadata": {},
   "outputs": [],
   "source": [
    "data"
   ]
  },
  {
   "cell_type": "code",
   "execution_count": null,
   "id": "f7b38e77-b612-4f35-8b99-194496b201ef",
   "metadata": {},
   "outputs": [],
   "source": [
    "print (data[\"tweet\"])"
   ]
  },
  {
   "cell_type": "markdown",
   "id": "233ab58b-e805-47f8-ba68-275fc795e3d4",
   "metadata": {},
   "source": [
    "### 2. Case Folding"
   ]
  },
  {
   "cell_type": "code",
   "execution_count": null,
   "id": "1eee2fad-a962-4fc0-bead-33d28bdd41ee",
   "metadata": {},
   "outputs": [],
   "source": [
    "data['tweet'] = data['tweet'].str.lower()"
   ]
  },
  {
   "cell_type": "code",
   "execution_count": null,
   "id": "6c5455a3-158d-4bcf-96fc-536950ab2406",
   "metadata": {},
   "outputs": [],
   "source": [
    "data "
   ]
  },
  {
   "cell_type": "code",
   "execution_count": null,
   "id": "7d01ddc6-988a-4ce3-b7c2-8753d233471e",
   "metadata": {},
   "outputs": [],
   "source": [
    "print (data[\"tweet\"])"
   ]
  },
  {
   "cell_type": "markdown",
   "id": "018e5779-4e54-41e4-b4e6-13cb36d4168c",
   "metadata": {},
   "source": [
    "### 3. Tokenizing"
   ]
  },
  {
   "cell_type": "code",
   "execution_count": null,
   "id": "15ae8ad3-a509-41de-9985-c012487fa401",
   "metadata": {},
   "outputs": [],
   "source": [
    "from nltk.tokenize import word_tokenize\n",
    "\n",
    "def word_tokenize_wrapper(text):\n",
    "    return word_tokenize(text)\n",
    "\n",
    "data['tweet_tokenize'] = data['tweet'].apply(word_tokenize_wrapper)"
   ]
  },
  {
   "cell_type": "code",
   "execution_count": null,
   "id": "c111257d-c983-4537-8d6e-002e7e8921c8",
   "metadata": {},
   "outputs": [],
   "source": [
    "def freqDist_wrapper(text):\n",
    "    return FreqDist(text)\n",
    "\n",
    "Ulasan_fqsist = data['tweet_tokenize'].apply(freqDist_wrapper)\n",
    "\n",
    "print('Frequency Tokens : \\n') \n",
    "print(Ulasan_fqsist.head().apply(lambda x : x.most_common()))"
   ]
  },
  {
   "cell_type": "code",
   "execution_count": null,
   "id": "67d8aae8-8f3e-4a38-b4b8-1c97b4beb5ce",
   "metadata": {},
   "outputs": [],
   "source": [
    "data"
   ]
  },
  {
   "cell_type": "code",
   "execution_count": null,
   "id": "293d51e2-1cda-4a42-a9fe-2468d5a4bc6b",
   "metadata": {},
   "outputs": [],
   "source": [
    "print(data[\"tweet_tokenize\"])"
   ]
  },
  {
   "cell_type": "markdown",
   "id": "52418f99-8d94-4a9f-8f44-e1f78217496b",
   "metadata": {},
   "source": [
    "### 4. Normalization"
   ]
  },
  {
   "cell_type": "code",
   "execution_count": null,
   "id": "4f014643-a59e-4741-bced-2347ee0f3291",
   "metadata": {},
   "outputs": [],
   "source": [
    "normalizad_word = pd.read_excel('kamus_coba.xlsx')\n",
    "\n",
    "normalizad_word_dict = {}\n",
    "\n",
    "for index, row in normalizad_word.iterrows():\n",
    "    if row[0] not in normalizad_word_dict:\n",
    "        normalizad_word_dict[row[0]] = row[1] \n",
    "\n",
    "def normalized_term(document):\n",
    "    return [normalizad_word_dict[term] if term in normalizad_word_dict else term for term in document]\n",
    "\n",
    "data['tweet_normalized'] = data['tweet_tokenize'].apply(normalized_term)"
   ]
  },
  {
   "cell_type": "code",
   "execution_count": null,
   "id": "9f8009cc-019b-49f1-9fdf-037b40448f8e",
   "metadata": {},
   "outputs": [],
   "source": [
    "data"
   ]
  },
  {
   "cell_type": "code",
   "execution_count": null,
   "id": "e4a83fb1-4e40-42bd-bfbf-1e123af27e8f",
   "metadata": {},
   "outputs": [],
   "source": [
    "print(data['tweet_normalized'])"
   ]
  },
  {
   "cell_type": "markdown",
   "id": "6a56301b-8aa2-4201-bfda-50a099f3fb3d",
   "metadata": {},
   "source": [
    "### 5. Stopword Removal"
   ]
  },
  {
   "cell_type": "code",
   "execution_count": null,
   "id": "6ae802cd-6336-4684-807f-cdba8f48575e",
   "metadata": {},
   "outputs": [],
   "source": [
    "from nltk.corpus import stopwords\n",
    "\n",
    "list_stopwords = stopwords.words('indonesian')\n",
    "\n",
    "#remove stopword pada list token\n",
    "def stopwords_removal(words):\n",
    "    return [word for word in words if word not in list_stopwords]\n",
    "\n",
    "data['tweet_stop_removed'] = data['tweet_normalized'].apply(stopwords_removal)"
   ]
  },
  {
   "cell_type": "code",
   "execution_count": null,
   "id": "e0acd509-0770-4866-bd4e-e00ca2a39de4",
   "metadata": {},
   "outputs": [],
   "source": [
    "data"
   ]
  },
  {
   "cell_type": "code",
   "execution_count": null,
   "id": "05d57852-1acd-472c-99cd-dac22c02f54a",
   "metadata": {},
   "outputs": [],
   "source": [
    "print(data['tweet_stop_removed'])"
   ]
  },
  {
   "cell_type": "markdown",
   "id": "f913d798-6077-4271-ba69-9578c8917e44",
   "metadata": {},
   "source": [
    "### 6. Stemming"
   ]
  },
  {
   "cell_type": "code",
   "execution_count": null,
   "id": "daa6aa7f-9e2b-45f5-9d92-c826cfe7e03d",
   "metadata": {},
   "outputs": [],
   "source": [
    "pip install Sastrawi"
   ]
  },
  {
   "cell_type": "code",
   "execution_count": null,
   "id": "ab71bd1a-8283-4a93-a4e5-2aa3e4754593",
   "metadata": {},
   "outputs": [],
   "source": [
    "pip install swifter"
   ]
  },
  {
   "cell_type": "code",
   "execution_count": null,
   "id": "90307ef8-abea-4759-9518-b2fd6c4e0ceb",
   "metadata": {},
   "outputs": [],
   "source": [
    "from Sastrawi.Stemmer.StemmerFactory import StemmerFactory\n",
    "import swifter\n",
    "\n",
    "\n",
    "# create stemmer\n",
    "factory = StemmerFactory()\n",
    "stemmer = factory.create_stemmer()\n",
    "\n",
    "# stemmed\n",
    "def stemmed_wrapper(term):\n",
    "    return stemmer.stem(term)\n",
    "\n",
    "term_dict = {}\n",
    "\n",
    "for document in data['tweet_stop_removed']:\n",
    "    for term in document:\n",
    "        if term not in term_dict:\n",
    "            term_dict[term] = ' '\n",
    "\n",
    "for term in term_dict:\n",
    "    term_dict[term] = stemmed_wrapper(term)\n",
    "    print(term,\":\" ,term_dict[term])\n",
    "    \n",
    "\n",
    "# apply stemmed term to dataframe\n",
    "def get_stemmed_term(document):\n",
    "    return [term_dict[term] for term in document]\n",
    "\n",
    "data['tweet_Stemmed'] = data['tweet_stop_removed'].swifter.apply(get_stemmed_term)"
   ]
  },
  {
   "cell_type": "code",
   "execution_count": null,
   "id": "ae0c2a77-6093-452b-afa9-1eaadef1bad9",
   "metadata": {},
   "outputs": [],
   "source": [
    "data"
   ]
  },
  {
   "cell_type": "code",
   "execution_count": null,
   "id": "66f35235-fd1c-48d5-a240-deac02f7988e",
   "metadata": {},
   "outputs": [],
   "source": [
    "print(data['tweet_Stemmed'])"
   ]
  },
  {
   "cell_type": "code",
   "execution_count": null,
   "id": "8d47ec3e-a7ff-4ffa-974c-20cc18b10ebc",
   "metadata": {},
   "outputs": [],
   "source": [
    "data['tweet_Stemmed']"
   ]
  },
  {
   "cell_type": "code",
   "execution_count": null,
   "id": "2c6c0c07-afff-411e-8756-ce7f7d4b2c70",
   "metadata": {},
   "outputs": [],
   "source": [
    "data[\"tweet_Stemmed\"] = data[\"tweet_Stemmed\"].astype(str)"
   ]
  },
  {
   "cell_type": "code",
   "execution_count": null,
   "id": "3d1d385c-983d-499b-80e8-08e5a05b0fa5",
   "metadata": {},
   "outputs": [],
   "source": [
    "data.to_csv(\"data_hasil_preprocessing.csv\", index = False)"
   ]
  },
  {
   "cell_type": "code",
   "execution_count": null,
   "id": "72a8047d-4cf9-4bfb-be18-e81905c5906b",
   "metadata": {},
   "outputs": [],
   "source": [
    "import pandas as pd\n",
    "import numpy as np\n",
    "\n",
    "data=pd.read_csv(\"data_hasil_preprocessing.csv\")"
   ]
  },
  {
   "cell_type": "markdown",
   "id": "f6d46819-0f5f-44b4-aac0-081a99d00513",
   "metadata": {},
   "source": [
    "## Transformation"
   ]
  },
  {
   "cell_type": "code",
   "execution_count": null,
   "id": "2a02addd-7048-4373-9d5c-7984dafdab85",
   "metadata": {},
   "outputs": [],
   "source": [
    "from sklearn.feature_extraction.text import TfidfVectorizer\n",
    "\n",
    "vectorizer = TfidfVectorizer()\n",
    "tfidf_tweet_stemed = vectorizer.fit_transform(data['tweet_Stemmed'])\n",
    "features_names = vectorizer.get_features_name_out()\n",
    "dense = tfidf_tweet_stemed.todense()\n",
    "denselist = dense.tolist()\n",
    "df =pd.DataFrame(denselst, columns= features_names) "
   ]
  },
  {
   "cell_type": "code",
   "execution_count": null,
   "id": "ddde926f-cf46-4981-8b61-79f5c58ecb68",
   "metadata": {},
   "outputs": [],
   "source": [
    "from imblearn.over_sampling import SMOTE\n",
    "\n",
    "smote = SMOTE(random_state=1, k_neighbors=5)\n",
    "X_smote,Y_smote = smote.fit_resample(tfidf_tweet_stemed, data['label'])"
   ]
  },
  {
   "cell_type": "markdown",
   "id": "54e347f6-c6ce-4cd2-b8a2-ca796edba131",
   "metadata": {},
   "source": [
    "## Text Mining & Evaluation"
   ]
  },
  {
   "cell_type": "code",
   "execution_count": null,
   "id": "d1107340-bb0b-4381-8643-6fa8c9d0b2d3",
   "metadata": {},
   "outputs": [],
   "source": [
    "from sklearn import svm\n",
    "\n",
    "SVM1 = svm.SVC(kernel='rbf')    \n",
    "SVM2 = svm.SVC(kernel='linear') \n",
    "SVM3 = svm.SVC(kernel='poly')"
   ]
  },
  {
   "cell_type": "code",
   "execution_count": null,
   "id": "f386d71c-63a8-4902-901b-a688ca300acf",
   "metadata": {},
   "outputs": [],
   "source": [
    "from sklearn import train_test_split\n",
    "\n",
    "x_train1, x_test1, Y_train1, Y_test1= train_test_split(X_smote,Y_smote, test_size= 0.1, random state= 42)\n",
    "\n",
    "SVM1.fit(x_train1, Y_train1) # RBF\n",
    "SVM2.fit(x_train1, Y_train1) # Linear\n",
    "SVM3.fit(x_train1, Y_train1) # Polynomial\n",
    "\n",
    "from sklearn.metrics import accuracy_score\n",
    "y_rbf = SVM1.predict(x_test1)\n",
    "y_linear = SVM2.predict(x_test1)\n",
    "y_polynomial = SVM3.predict(x_test1)\n",
    "\n",
    "print(accuracy_score(Y_test1,y_rbf))\n",
    "print(accuracy_score(Y_test1,y_linear))\n",
    "print(accuracy_score(Y_test1,y_polynomial))"
   ]
  },
  {
   "cell_type": "code",
   "execution_count": null,
   "id": "38a9fc83-d3ba-43c7-87d6-f2e2993dd131",
   "metadata": {},
   "outputs": [],
   "source": [
    "from sklearn.metrics import confusion_matrix\n",
    "from sklearn.metrics import classification_report\n",
    "\n",
    "print(confusion_matrix(Y_test1, y_rbf))\n",
    "print(confusion_matrix(Y_test1, y_linear))\n",
    "print(confusion_matrix(Y_test1, y_polynomial))\n",
    "\n",
    "print(classification_report(Y_test1, y_rbf))\n",
    "print(classification_report(Y_test1, y_linear))\n",
    "print(classification_report(Y_test1, y_polynomial))"
   ]
  },
  {
   "cell_type": "code",
   "execution_count": null,
   "id": "c2688a44-3aa6-4e86-a999-37232cf36965",
   "metadata": {},
   "outputs": [],
   "source": [
    "from sklearn.model_selection import train_test_split\n",
    "\n",
    "x_train2, x_test2, Y_train2, Y_test2= train_test_split(X_smote,Y_smote, test_size= 0.2, random_state= 42)\n",
    "\n",
    "SVM1.fit(x_train2, Y_train2) # RBF\n",
    "SVM2.fit(x_train2, Y_train2) # Linear\n",
    "SVM3.fit(x_train2, Y_train2) # Polynomial\n",
    "\n",
    "from sklearn.metrics import accuracy_score\n",
    "y_rbf = SVM1.predict(x_test2)\n",
    "y_linear = SVM2.predict(x_test2)\n",
    "y_polynomial = SVM3.predict(x_test2)\n",
    "\n",
    "print(accuracy_score(Y_test2,y_rbf))\n",
    "print(accuracy_score(Y_test2,y_linear))\n",
    "print(accuracy_score(Y_test2,y_polynomial))"
   ]
  },
  {
   "cell_type": "code",
   "execution_count": null,
   "id": "30938e1a-f745-4758-90cf-dbc437b86ab4",
   "metadata": {},
   "outputs": [],
   "source": [
    "from sklearn.metrics import confusion_matrix\n",
    "from sklearn.metrics import classification_report\n",
    "\n",
    "print(confusion_matrix(Y_test2, y_rbf))\n",
    "print(confusion_matrix(Y_test2, y_linear))\n",
    "print(confusion_matrix(Y_test2, y_polynomial))\n",
    "\n",
    "print(classification_report(Y_test2, y_rbf))\n",
    "print(classification_report(Y_test2, y_linear))\n",
    "print(classification_report(Y_test2, y_polynomial))"
   ]
  },
  {
   "cell_type": "code",
   "execution_count": null,
   "id": "95f3d6ae-a1e6-4692-999d-449d506e4f26",
   "metadata": {},
   "outputs": [],
   "source": [
    "from sklearn.model_selection import train_test_split\n",
    "\n",
    "x_train3, x_test3, Y_train3, Y_test3= train_test_split(X_smote,Y_smote, test_size= 0.3, random_state= 42)\n",
    "\n",
    "SVM1.fit(x_train3, Y_train3) # RBF\n",
    "SVM2.fit(x_train3, Y_train3) # Linear\n",
    "SVM3.fit(x_train3, Y_train3) # Polynomial\n",
    "\n",
    "from sklearn.metrics import accuracy_score\n",
    "y_rbf = SVM1.predict(x_test3)\n",
    "y_linear = SVM2.predict(x_test3)\n",
    "y_polynomial = SVM3.predict(x_test3)\n",
    "\n",
    "print(accuracy_score(Y_test3,y_rbf))\n",
    "print(accuracy_score(Y_test3,y_linear))\n",
    "print(accuracy_score(Y_test3,y_polynomial))"
   ]
  },
  {
   "cell_type": "code",
   "execution_count": null,
   "id": "dcdb65a9-a300-4419-8099-26447041d145",
   "metadata": {},
   "outputs": [],
   "source": [
    "from sklearn.metrics import confusion_matrix\n",
    "from sklearn.metrics import classification_report\n",
    "\n",
    "print(confusion_matrix(Y_test3, y_rbf))\n",
    "print(confusion_matrix(Y_test3, y_linear))\n",
    "print(confusion_matrix(Y_test3, y_polynomial))\n",
    "\n",
    "print(classification_report(Y_test3, y_rbf))\n",
    "print(classification_report(Y_test3, y_linear))\n",
    "print(classification_report(Y_test3, y_polynomial))"
   ]
  },
  {
   "cell_type": "markdown",
   "id": "fe0fd461-e50a-4252-a53b-2f35fff7be47",
   "metadata": {},
   "source": [
    "### Wordcloud"
   ]
  },
  {
   "cell_type": "code",
   "execution_count": null,
   "id": "49450232-f52d-4f88-ab58-3d836e2f6f0f",
   "metadata": {},
   "outputs": [],
   "source": [
    "data[\"tweet_Clean\"] = [' '.join(map(str, l)) for l in data['tweet_Stemmed']]\n",
    "data.head()"
   ]
  },
  {
   "cell_type": "code",
   "execution_count": null,
   "id": "b0340505-2903-4ba8-9ee5-636f088f5f9e",
   "metadata": {
    "jp-MarkdownHeadingCollapsed": true,
    "tags": []
   },
   "outputs": [],
   "source": [
    "tweet = ' '.join(str(v) for v in data['tweet_Clean'])"
   ]
  },
  {
   "cell_type": "code",
   "execution_count": null,
   "id": "104278f7-c329-4630-b297-8bc823c3becc",
   "metadata": {},
   "outputs": [],
   "source": [
    "tokenize_tweet = word_tokenize(tweet)"
   ]
  },
  {
   "cell_type": "code",
   "execution_count": null,
   "id": "b7f629ff-e6ed-4947-b92a-45879c8ae288",
   "metadata": {},
   "outputs": [],
   "source": [
    "tokenize_tweet"
   ]
  },
  {
   "cell_type": "code",
   "execution_count": null,
   "id": "3d2c5b04-0d97-4523-ada3-732c03a67878",
   "metadata": {},
   "outputs": [],
   "source": [
    "fqdist = FreqDist(tokenize_tweet)"
   ]
  },
  {
   "cell_type": "code",
   "execution_count": null,
   "id": "e037e43f-934e-47f6-8b12-cdb07269ed2b",
   "metadata": {},
   "outputs": [],
   "source": [
    "fqdist"
   ]
  },
  {
   "cell_type": "code",
   "execution_count": null,
   "id": "5ec38d28-2294-406f-973d-aa8c127f2255",
   "metadata": {},
   "outputs": [],
   "source": [
    "fqdist.most_common(15)"
   ]
  },
  {
   "cell_type": "code",
   "execution_count": null,
   "id": "48d627c9-e3e0-4d72-a15a-128f069fab94",
   "metadata": {},
   "outputs": [],
   "source": [
    "positif = data.loc[data['label'] == 'Positif']\n",
    "negatif = data.loc[data['label'] == 'Negatif']\n",
    "netral  = data.loc[data['label'] == 'Netral']"
   ]
  },
  {
   "cell_type": "code",
   "execution_count": null,
   "id": "76e06223-5b4b-4842-a1d0-f495e5ecb890",
   "metadata": {},
   "outputs": [],
   "source": [
    "from wordcloud import WordCloud\n",
    "import matplotlib.pyplot as plt\n",
    "\n",
    "stop= ('krl','rute','ubah', 'manggarai')\n",
    "wc = WordCloud(width = 800, height = 800,\n",
    "               background_color = 'white',\n",
    "               min_font_size=10, stopwords = stop ).generate_from_text(''.join(positif[\"tweet_Clean\"]))\n",
    "\n",
    "plt.figure(figsize = (10,10), facecolor = None)\n",
    "plt.imshow(wc, interpolation=\"bilinear\")\n",
    "plt.axis('off')\n",
    "plt.show()\n",
    "#wc.to_file('wordcloudpositif.png')"
   ]
  },
  {
   "cell_type": "code",
   "execution_count": null,
   "id": "e1e590f8-5414-4290-bf2b-14304b9c8995",
   "metadata": {},
   "outputs": [],
   "source": [
    "from wordcloud import WordCloud\n",
    "import matplotlib.pyplot as plt\n",
    "\n",
    "stop= ('krl','rute','ubah', 'manggarai')\n",
    "wc = WordCloud(width = 800, height = 800,\n",
    "               background_color = 'white',\n",
    "               min_font_size=10, stopwords = stop).generate_from_text(''.join(negatif[\"tweet_Clean\"]))\n",
    "\n",
    "plt.figure(figsize = (10,10), facecolor = None)\n",
    "plt.imshow(wc, interpolation=\"bilinear\")\n",
    "plt.axis('off')\n",
    "plt.show()\n",
    "#wc.to_file('wordcloudnegatif.png')"
   ]
  },
  {
   "cell_type": "code",
   "execution_count": null,
   "id": "788009e9-d6cf-4e41-a32f-328edc6009b3",
   "metadata": {},
   "outputs": [],
   "source": []
  },
  {
   "cell_type": "code",
   "execution_count": null,
   "id": "29b195df-7b53-4b10-beee-44ff7b41b370",
   "metadata": {},
   "outputs": [],
   "source": []
  }
 ],
 "metadata": {
  "kernelspec": {
   "display_name": "Python 3 (ipykernel)",
   "language": "python",
   "name": "python3"
  },
  "language_info": {
   "codemirror_mode": {
    "name": "ipython",
    "version": 3
   },
   "file_extension": ".py",
   "mimetype": "text/x-python",
   "name": "python",
   "nbconvert_exporter": "python",
   "pygments_lexer": "ipython3",
   "version": "3.9.12"
  }
 },
 "nbformat": 4,
 "nbformat_minor": 5
}
